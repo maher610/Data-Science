{
 "cells": [
  {
   "cell_type": "markdown",
   "metadata": {},
   "source": [
    "<center>\n",
    "    <img src=\"https://cf-courses-data.s3.us.cloud-object-storage.appdomain.cloud/IBMDeveloperSkillsNetwork-DS0105EN-SkillsNetwork/labs/Module2/images/SN_web_lightmode.png\" width=\"300\" alt=\"cognitiveclass.ai logo\">\n",
    "</center>\n"
   ]
  },
  {
   "cell_type": "markdown",
   "metadata": {},
   "source": [
    "#### Add your code below following the instructions given in the course\n"
   ]
  },
  {
   "cell_type": "markdown",
   "metadata": {},
   "source": [
    "# My Jupyter Notebook on IBM Watson Studio"
   ]
  },
  {
   "cell_type": "markdown",
   "metadata": {},
   "source": [
    "**Maher Najjar**\n",
    "\n",
    "I want to be a Data Scientist in an International Company.\n"
   ]
  },
  {
   "cell_type": "markdown",
   "metadata": {},
   "source": [
    "*I am interested in data science because it will help in my future and in starting my new career*\n"
   ]
  },
  {
   "cell_type": "markdown",
   "metadata": {},
   "source": [
    "### This next line is going to be basic multiplication "
   ]
  },
  {
   "cell_type": "code",
   "execution_count": 5,
   "metadata": {},
   "outputs": [
    {
     "data": {
      "text/plain": [
       "7594122312"
      ]
     },
     "execution_count": 5,
     "metadata": {},
     "output_type": "execute_result"
    }
   ],
   "source": [
    "234213*32424"
   ]
  },
  {
   "cell_type": "markdown",
   "metadata": {},
   "source": [
    "---\n",
    "\n",
    "- Bulleted list item 1\n",
    "- Bulleted list item 2\n",
    "  - Nested bulleted list item\n",
    "- Bulleted list item 3\n",
    "\n",
    "1. Numbered list item 1\n",
    "2. Numbered list item 2\n",
    "3. Numbered list item 3\n",
    "\n",
    "| Column 1 | Column 2 | Column 3 |\n",
    "|----------|----------|----------|\n",
    "| Row 1, Column 1 | Row 1, Column 2 | Row 1, Column 3 |\n",
    "| Row 2, Column 1 | Row 2, Column 2 | Row 2, Column 3 |\n",
    "\n",
    "[Hyperlink to Google website](https://Google.com)\n",
    "\n",
    "![Image of a Dog](https://www.dreamstime.com/royalty-free-stock-photo-dog-listening-big-ear-image27392035)\n",
    "\n",
    "\n",
    "~~python syntax below strike through Text~~\n",
    "\n",
    "def example_function(x):\n",
    "    return x * 2\n"
   ]
  },
  {
   "cell_type": "code",
   "execution_count": null,
   "metadata": {},
   "outputs": [],
   "source": []
  }
 ],
 "metadata": {
  "kernelspec": {
   "display_name": "Python",
   "language": "python",
   "name": "conda-env-python-py"
  },
  "language_info": {
   "codemirror_mode": {
    "name": "ipython",
    "version": 3
   },
   "file_extension": ".py",
   "mimetype": "text/x-python",
   "name": "python",
   "nbconvert_exporter": "python",
   "pygments_lexer": "ipython3",
   "version": "3.7.12"
  }
 },
 "nbformat": 4,
 "nbformat_minor": 4
}
